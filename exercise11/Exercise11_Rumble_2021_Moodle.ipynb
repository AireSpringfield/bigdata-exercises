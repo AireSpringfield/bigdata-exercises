{
 "cells": [
  {
   "cell_type": "code",
   "execution_count": 1,
   "metadata": {
    "id": "E8wSdtz81-dt"
   },
   "outputs": [],
   "source": [
    "import requests\n",
    "import json\n",
    "import time\n",
    "from IPython.core.magic import register_line_cell_magic\n",
    "\n",
    "@register_line_cell_magic\n",
    "def rumble(line, cell=None):\n",
    "    if cell is None:\n",
    "        data = line\n",
    "    else:\n",
    "        data = cell\n",
    "\n",
    "    start = time.time()                                                         \n",
    "    response = json.loads(requests.post(server, data=data).text)                   \n",
    "    end = time.time()                                                              \n",
    "    print(\"Took: %s s\" % (end - start))\n",
    "\n",
    "    if 'warning' in response:\n",
    "        print(json.dumps(response['warning']))\n",
    "    if 'values' in response:\n",
    "        for e in response['values']:\n",
    "            print(json.dumps(e))\n",
    "    elif 'error-message' in response:\n",
    "        return response['error-message']\n",
    "    else:\n",
    "        return response\n",
    "\n",
    "server = 'http://localhost:8001/jsoniq'"
   ]
  },
  {
   "cell_type": "markdown",
   "metadata": {
    "id": "TEJ2EaoE2YOQ"
   },
   "source": [
    "```\n",
    "spark-submit --driver-memory 10G rumbledb-1.16.2-for-spark-3.1.jar --server yes --port 8001\n",
    "```\n",
    "\n",
    "```\n",
    "docker run -p 8001:8001 --rm -it --mount type=bind,source=D:\\Projects\\bigdata-exercises\\exercise11,target=/home  rumbledb/rumble --server yes --port 8001 --host 0.0.0.0 \n",
    "```"
   ]
  },
  {
   "cell_type": "markdown",
   "metadata": {},
   "source": [
    "## Assignment\n",
    "\n",
    "confusion-100000.json  \n",
    "confusion-2014-03-02/confusion-2014-03-02.json\n",
    "\n"
   ]
  },
  {
   "cell_type": "markdown",
   "metadata": {},
   "source": [
    "1.Find the number of games where the guessed language is correct (meaning equal to the target one) and that language is Russian."
   ]
  },
  {
   "cell_type": "code",
   "execution_count": 21,
   "metadata": {},
   "outputs": [
    {
     "name": "stdout",
     "output_type": "stream",
     "text": [
      "Took: 13.592159986495972 s\n",
      "290818\n"
     ]
    }
   ],
   "source": [
    "%%rumble\n",
    "count(\n",
    "for $i in json-file(\"confusion-2014-03-02/confusion-2014-03-02.json\")\n",
    "where $i.target eq $i.guess and $i.target eq \"Russian\"\n",
    "return $i\n",
    ")"
   ]
  },
  {
   "cell_type": "markdown",
   "metadata": {},
   "source": [
    "2.Return the number of distinct \"target\" languages."
   ]
  },
  {
   "cell_type": "code",
   "execution_count": 23,
   "metadata": {},
   "outputs": [
    {
     "name": "stdout",
     "output_type": "stream",
     "text": [
      "Took: 14.838841676712036 s\n",
      "78\n"
     ]
    }
   ],
   "source": [
    "%%rumble\n",
    "let $targets :=\n",
    "for $i in json-file(\"confusion-2014-03-02/confusion-2014-03-02.json\")\n",
    "return $i.target\n",
    "\n",
    "return count(distinct-values($targets))\n"
   ]
  },
  {
   "cell_type": "markdown",
   "metadata": {},
   "source": [
    "3.Return the sample IDs (i.e., the sample field) of the top two (2) games where the guessed language is correct (equal to the target one) ordered by language (ascending), then by country (ascending), then by date (ascending)."
   ]
  },
  {
   "cell_type": "code",
   "execution_count": 3,
   "metadata": {
    "scrolled": true
   },
   "outputs": [
    {
     "name": "stdout",
     "output_type": "stream",
     "text": [
      "Took: 62.572317600250244 s\n",
      "\"00b85faa8b878a14f8781be334deb137\"\n",
      "\"efcd813daec1c836d9f030b30caa07ce\"\n"
     ]
    }
   ],
   "source": [
    "%%rumble\n",
    "for $ i in json-file(\"confusion-2014-03-02/confusion-2014-03-02.json\")\n",
    "where $i.target eq $i.guess \n",
    "order by $i.target ascending, $i.country ascending, $i.date ascending\n",
    "count $c where $c <= 2\n",
    "return $i.sample"
   ]
  },
  {
   "cell_type": "markdown",
   "metadata": {},
   "source": [
    "4.Aggregate all games by country and target language, counting the number of guesses for each group and return the frequencies of the three most frequent country/language combinations.\n",
    "\n",
    "In order to help with the grading please add them in the following format: count1,count2,count3 (meaning separated with commas and without any spaces between them)"
   ]
  },
  {
   "cell_type": "code",
   "execution_count": 20,
   "metadata": {
    "scrolled": true
   },
   "outputs": [
    {
     "name": "stdout",
     "output_type": "stream",
     "text": [
      "Took: 43.2846405506134 s\n",
      "{\"country\": \"US\", \"target\": \"French\", \"cnt\": 112934}\n",
      "{\"country\": \"US\", \"target\": \"German\", \"cnt\": 112007}\n",
      "{\"country\": \"US\", \"target\": \"Spanish\", \"cnt\": 110919}\n"
     ]
    }
   ],
   "source": [
    "%%rumble\n",
    "let $x :=\n",
    "for $i in json-file(\"confusion-2014-03-02/confusion-2014-03-02.json\")\n",
    "group by $country  := $i.country, $target := $i.target\n",
    "return {\"country\": $country, \"target\": $target, \"cnt\":  count($i)}\n",
    "\n",
    "for $j in $x\n",
    "order by $j.cnt descending\n",
    "count $c where $c <= 3\n",
    "return $j"
   ]
  },
  {
   "cell_type": "markdown",
   "metadata": {},
   "source": [
    "5.Find the percentage of games where (the answer was correct && the correct guess was the first choice amongst the array of possible answers)\n",
    "\n",
    "Please write the fraction rounding to 4 decimals (eg. 0.3323)"
   ]
  },
  {
   "cell_type": "code",
   "execution_count": 9,
   "metadata": {},
   "outputs": [
    {
     "name": "stdout",
     "output_type": "stream",
     "text": [
      "Took: 27.67630171775818 s\n",
      "0.2560398308\n"
     ]
    }
   ],
   "source": [
    "%%rumble\n",
    "count(\n",
    "    for $i in json-file(\"confusion-2014-03-02/confusion-2014-03-02.json\")\n",
    "    where $i.target eq $i.guess and $i.guess eq $i.choices[[1]]\n",
    "    return $i)\n",
    "div\n",
    "count(\n",
    "    for $i in json-file(\"confusion-2014-03-02/confusion-2014-03-02.json\") \n",
    "    return $i)"
   ]
  },
  {
   "cell_type": "markdown",
   "metadata": {},
   "source": [
    "6.Sort the languages by decreasing overall percentage of correct guesses and return the first three languages.\n",
    "\n",
    "In order to help with the grading please add them in the following format: language1,language2,language3 (meaning separated with commas and without any spaces between them)"
   ]
  },
  {
   "cell_type": "code",
   "execution_count": 2,
   "metadata": {},
   "outputs": [
    {
     "name": "stdout",
     "output_type": "stream",
     "text": [
      "Took: 54.376150608062744 s\n",
      "{\"language\": \"French\", \"p\": 0.9382414927}\n",
      "{\"language\": \"German\", \"p\": 0.9197634593}\n",
      "{\"language\": \"Spanish\", \"p\": 0.8956432116}\n"
     ]
    }
   ],
   "source": [
    "%%rumble\n",
    "let $x := \n",
    "for $i in json-file(\"confusion-2014-03-02/confusion-2014-03-02.json\")\n",
    "where $i.target eq $i.guess\n",
    "group by $language := $i.target\n",
    "return {\"language\" : $language, \"cnt1\" : count($i) }\n",
    "\n",
    "let $y := \n",
    "for $j in json-file(\"confusion-2014-03-02/confusion-2014-03-02.json\")\n",
    "group by $language := $j.target\n",
    "return {\"language\" : $language, \"cnt2\" : count($j) }\n",
    "\n",
    "let $z :=\n",
    "for $i in $x, $j in $y\n",
    "where $i.language eq $j.language\n",
    "return {\"language\": $i.language, \"p\":  $i.cnt1 div $j.cnt2}\n",
    "\n",
    "for $k in $z\n",
    "order by $k.p descending\n",
    "count $c where $c <= 3\n",
    "return $k"
   ]
  },
  {
   "cell_type": "markdown",
   "metadata": {},
   "source": [
    "Trying using let to emulate AS\n",
    "It seems that you must use a variable to bind to the result of join ($z). Then iterate that join result. "
   ]
  },
  {
   "cell_type": "code",
   "execution_count": 3,
   "metadata": {},
   "outputs": [
    {
     "name": "stdout",
     "output_type": "stream",
     "text": [
      "Took: 51.431007623672485 s\n",
      "{\"language\": \"French\", \"p\": 0.9382414927}\n",
      "{\"language\": \"German\", \"p\": 0.9197634593}\n",
      "{\"language\": \"Spanish\", \"p\": 0.8956432116}\n"
     ]
    }
   ],
   "source": [
    "%%rumble\n",
    "let $x := \n",
    "for $i in json-file(\"confusion-2014-03-02/confusion-2014-03-02.json\")\n",
    "where $i.target eq $i.guess\n",
    "group by $language := $i.target\n",
    "return {\"language\" : $language, \"cnt1\" : count($i) }\n",
    "\n",
    "let $y := \n",
    "for $j in json-file(\"confusion-2014-03-02/confusion-2014-03-02.json\")\n",
    "group by $language := $j.target\n",
    "return {\"language\" : $language, \"cnt2\" : count($j) }\n",
    "\n",
    "let $z :=\n",
    "for $i in $x, $j in $y\n",
    "where $i.language eq $j.language\n",
    "let $p := $i.cnt1 div $j.cnt2\n",
    "order by $p descending\n",
    "count $c where $c <= 3\n",
    "return {\"language\": $i.language, \"p\":  $p}\n",
    "\n",
    "for $k in $z\n",
    "return $k"
   ]
  },
  {
   "cell_type": "markdown",
   "metadata": {},
   "source": [
    "7.Return the number games played on the latest day."
   ]
  },
  {
   "cell_type": "code",
   "execution_count": 18,
   "metadata": {},
   "outputs": [
    {
     "name": "stdout",
     "output_type": "stream",
     "text": [
      "Took: 26.778305053710938 s\n",
      "65653\n"
     ]
    }
   ],
   "source": [
    "%%rumble\n",
    "let $date := max(for $i in json-file(\"confusion-2014-03-02/confusion-2014-03-02.json\") return $i.date)\n",
    "return count(\n",
    "    for $i in json-file(\"confusion-2014-03-02/confusion-2014-03-02.json\")\n",
    "    where $i.date eq $date\n",
    "    return $i\n",
    ")"
   ]
  }
 ],
 "metadata": {
  "colab": {
   "collapsed_sections": [
    "Uy48JTprhrKW",
    "eELMD0pqhrKW",
    "3Pcf7FL7Aetl",
    "OG0xJS2KHEF3",
    "jQycXJuCHHJW",
    "3ivTnfw5HMZz",
    "sKmgYw_jHPZ3",
    "IAjnh_H2HUa1",
    "yVvQBpVxHWuz",
    "XW8fQM8WHYt7",
    "PE_9pQzhAOyo"
   ],
   "name": "Exercise12_Rumble_Solutions.ipynb",
   "provenance": [],
   "toc_visible": true
  },
  "kernelspec": {
   "display_name": "Python 3 (ipykernel)",
   "language": "python",
   "name": "python3"
  },
  "language_info": {
   "codemirror_mode": {
    "name": "ipython",
    "version": 3
   },
   "file_extension": ".py",
   "mimetype": "text/x-python",
   "name": "python",
   "nbconvert_exporter": "python",
   "pygments_lexer": "ipython3",
   "version": "3.9.6"
  },
  "toc": {
   "base_numbering": 1,
   "nav_menu": {},
   "number_sections": true,
   "sideBar": true,
   "skip_h1_title": false,
   "title_cell": "Table of Contents",
   "title_sidebar": "Contents",
   "toc_cell": false,
   "toc_position": {},
   "toc_section_display": true,
   "toc_window_display": false
  }
 },
 "nbformat": 4,
 "nbformat_minor": 1
}
